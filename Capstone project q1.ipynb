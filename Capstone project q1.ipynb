{
 "cells": [
  {
   "cell_type": "markdown",
   "metadata": {},
   "source": [
    "#### A description of the problem and a discussion of the background."
   ]
  },
  {
   "cell_type": "markdown",
   "metadata": {},
   "source": [
    "Toronto is the capital city of the province of Ontario and the largest city in Canada by population. The economy of Toronto is the largest contributor to the Canadian economy. Many IT Companies have their offices in Toronto.\n",
    "\n",
    "Universal Electronics, a renowned IT company based in Rosedale, Toronto needs to choose a location and a list of possible standard hotels for their employees who will be traveling to Bengaluru, India for few weeks to work and set up a new offshore office in Bengaluru. Bengaluru is the IT capital of India and is a major hub for companies looking for skilled and affordable manpower. It has a population of over 10 million spread over an area of 741 km^2 divided over 294 localities and governed by BBMP, the municipal corporation of Bengaluru.\n",
    "\n",
    "The company would like to choose from locations which are similar to Rosedale for their employees accommodation in Bengaluru in order to help them adapt quickly to the new place. In this project we will attempt to help the company find those locations which are suitable as per the company profile.\n",
    "\n",
    "#### Therefore the problem to be answered is: \"Which areas of Bengaluru are similar to Rosedale, Toronto? Can we get the names and locations of hotels in these locations where accomodation can be arranged for their employees\""
   ]
  }
 ],
 "metadata": {
  "kernelspec": {
   "display_name": "Python 3",
   "language": "python",
   "name": "python3"
  },
  "language_info": {
   "codemirror_mode": {
    "name": "ipython",
    "version": 3
   },
   "file_extension": ".py",
   "mimetype": "text/x-python",
   "name": "python",
   "nbconvert_exporter": "python",
   "pygments_lexer": "ipython3",
   "version": "3.5.2"
  },
  "widgets": {
   "state": {},
   "version": "1.1.2"
  }
 },
 "nbformat": 4,
 "nbformat_minor": 2
}
