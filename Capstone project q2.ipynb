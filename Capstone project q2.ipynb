{
 "cells": [
  {
   "cell_type": "markdown",
   "metadata": {},
   "source": [
    "####  A description of the data and how it will be used to solve the problem."
   ]
  },
  {
   "cell_type": "markdown",
   "metadata": {},
   "source": [
    "The data that we have used in this project is obtained from Wikipedia and Foursquare. We have obtained a list of all localities in Toronto and Bangalore by scrapping wikipedia pages and websites, as well as their geo-location data like location and longitude.\n",
    "\n",
    "https://en.wikipedia.org/wiki/List_of_postal_codes_of_Canada:_M\n",
    "\n",
    "https://www.mapsofindia.com/pincode/india/karnataka/bangalore/\n",
    "\n",
    "https://www.mapdevelopers.com/batch_geocode_tool.php\n",
    "\n",
    "These data is then scraped using the Beautiful soup library in python, and then formatted into a pandas dataframe for further processing.\n",
    "\n",
    "Foursquare provides detailed data relating to each of these neighbourhoods. Foursquare is a local search and discovery service provider that provides search results for its users. Foursquare API will be used to explore the various types of venues and their categories available in each neighbourhood. The information for venues, categories, hotels, etc. is extracted using foursquare to solve the business problem. This data is used for segmenting and clustering the localities of Bangalore. This will help to detect the similarities and dissimilarities of neighbourhoods. We will find the cluster which is most similar to Rosedale and then obtain a list of some of the hotels which are located in this cluster."
   ]
  }
 ],
 "metadata": {
  "kernelspec": {
   "display_name": "Python 3",
   "language": "python",
   "name": "python3"
  },
  "language_info": {
   "codemirror_mode": {
    "name": "ipython",
    "version": 3
   },
   "file_extension": ".py",
   "mimetype": "text/x-python",
   "name": "python",
   "nbconvert_exporter": "python",
   "pygments_lexer": "ipython3",
   "version": "3.5.2"
  },
  "widgets": {
   "state": {},
   "version": "1.1.2"
  }
 },
 "nbformat": 4,
 "nbformat_minor": 2
}
